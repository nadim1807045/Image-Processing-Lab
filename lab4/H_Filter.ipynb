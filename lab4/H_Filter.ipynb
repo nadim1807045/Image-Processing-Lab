{
 "cells": [
  {
   "cell_type": "code",
   "execution_count": null,
   "metadata": {},
   "outputs": [],
   "source": [
    "import cv2\n",
    "import matplotlib.pyplot as plt\n",
    "import numpy as np"
   ]
  },
  {
   "cell_type": "code",
   "execution_count": null,
   "metadata": {},
   "outputs": [],
   "source": [
    "path = \"D:\\\\NC files\\\\MainDirectory\\\\imageLabAssignment\\\\Week 4\\\\homo.jpg\"\n",
    "\n",
    "I = cv2.imread(path, 0)\n",
    "M, N = I.shape\n",
    "img = np.float32(I)\n",
    "img = img + 1\n",
    "img = np.log(img)\n",
    "img = np.fft.fft2(img)\n",
    "img = np.fft.fftshift(img)\n",
    "\n",
    "print(img.shape)\n",
    "plt.imshow((np.log(np.abs(img))), \"gray\")\n",
    "plt.show()"
   ]
  },
  {
   "cell_type": "code",
   "execution_count": null,
   "metadata": {},
   "outputs": [],
   "source": [
    "GH = 1.2\n",
    "GL = 0.5\n",
    "D0 = 50\n",
    "c = 0.1\n",
    "D = np.zeros(img.shape)\n",
    "for u in range(M):\n",
    "    for v in range(N):\n",
    "        D[u, v] = np.sqrt((u-M//2)**2+(v-N//2)**2)\n",
    "\n",
    "H = np.zeros(img.shape)\n",
    "for u in range(M):\n",
    "    for v in range(N):\n",
    "        H[u,v] = (GH-GL)*(1-np.exp(-(c*D[u, v]**2)/(D0)**2))+GL\n",
    "plt.imshow((np.abs(H)), \"gray\")\n",
    "plt.show()"
   ]
  },
  {
   "cell_type": "code",
   "execution_count": null,
   "metadata": {},
   "outputs": [],
   "source": [
    "img_f2  = img*H\n",
    "img_f = np.fft.ifftshift(img_f2)\n",
    "img_f = np.fft.ifft2(img_f)\n",
    "img_g = np.exp(np.abs(img_f))-1\n",
    "\n",
    "fig = plt.figure(figsize=(15,15))\n",
    "fig.add_subplot(1,2,1)\n",
    "plt.imshow(I, \"gray\")\n",
    "plt.title(\"Original Image\")\n",
    "fig.add_subplot(1,2,2)\n",
    "plt.imshow(img_g, \"gray\")\n",
    "plt.title(\"Filtered Image\")\n",
    "plt.show()"
   ]
  }
 ],
 "metadata": {
  "interpreter": {
   "hash": "43c05a3e19b01079ffeaf8db5e23f85b9dc48275fbce953df18c5336d9b3b7c5"
  },
  "kernelspec": {
   "display_name": "Python 3.7.6 ('mllab')",
   "language": "python",
   "name": "python3"
  },
  "language_info": {
   "codemirror_mode": {
    "name": "ipython",
    "version": 3
   },
   "file_extension": ".py",
   "mimetype": "text/x-python",
   "name": "python",
   "nbconvert_exporter": "python",
   "pygments_lexer": "ipython3",
   "version": "3.7.6"
  },
  "orig_nbformat": 4
 },
 "nbformat": 4,
 "nbformat_minor": 2
}
