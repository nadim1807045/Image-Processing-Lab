{
 "cells": [
  {
   "cell_type": "code",
   "execution_count": null,
   "metadata": {},
   "outputs": [],
   "source": [
    "import numpy as np\n",
    "import cv2 as cv\n",
    "import matplotlib.pyplot as plt"
   ]
  },
  {
   "cell_type": "code",
   "execution_count": null,
   "metadata": {},
   "outputs": [],
   "source": [
    "#Read image\n",
    "img = cv.imread('person_1.png', 0)\n",
    "plt.imshow(img, \"gray\")\n",
    "plt.title(\"Original Image\")\n",
    "plt.show()"
   ]
  },
  {
   "cell_type": "code",
   "execution_count": null,
   "metadata": {},
   "outputs": [],
   "source": [
    "#Create a gaussian filter kernel\n",
    "def gaussian_kernel(N=5, sigma=1):\n",
    "    kernel = np.zeros((N,N))\n",
    "    for i in range(N):\n",
    "        for j in range(N):\n",
    "            kernel[i,j] = np.exp(-((i-N//2)**2+(j-N//2)**2)/(2*sigma**2))\n",
    "    return kernel\n",
    "# print(gaussian_kernel())\n",
    "\n",
    "#Impulse kernel\n",
    "def impulse_kernel(N=5):\n",
    "    kernel = np.zeros((N,N))\n",
    "    for i in range(N):\n",
    "        for j in range(N):\n",
    "            if i == j:\n",
    "                kernel[i,j] = 1\n",
    "    return kernel\n",
    "\n",
    "# print(impulse_kernel())"
   ]
  },
  {
   "cell_type": "code",
   "execution_count": null,
   "metadata": {},
   "outputs": [],
   "source": [
    "# gauss_kernel = gaussian_kernel(5, 1)\n",
    "gauss_kernel = impulse_kernel(15)\n",
    "\n",
    "#Calculate padding size\n",
    "a = int(img.shape[0]//2 - gauss_kernel.shape[0]//2)\n",
    "\n",
    "#Generate padding for kernel\n",
    "gauss_kernel_pad = np.pad(gauss_kernel, (a,a-1), 'constant', constant_values=(0))\n",
    "\n",
    "#Resize image to kernel size\n",
    "img = cv.resize(img,(gauss_kernel_pad.shape[0],gauss_kernel_pad.shape[0]))"
   ]
  },
  {
   "cell_type": "code",
   "execution_count": null,
   "metadata": {},
   "outputs": [],
   "source": [
    "#Fourier transform of image and kernel\n",
    "img_fft = np.fft.fft2(img)\n",
    "gauss_kernel_fft = np.fft.fft2(gauss_kernel_pad)\n",
    "\n",
    "# plt.imshow(np.fft.fftshift(np.log(np.abs(img_fft)+1)), \"gray\")\n",
    "# plt.title(\"Fourier Transform of Image\")\n",
    "# plt.show()\n",
    "\n",
    "# plt.imshow(np.fft.fftshift(np.log(np.abs(gauss_kernel_fft)+1)), \"gray\")\n",
    "# plt.title(\"Fourier Transform of Kernel\")\n",
    "# plt.show()"
   ]
  },
  {
   "cell_type": "code",
   "execution_count": null,
   "metadata": {},
   "outputs": [],
   "source": [
    "#Convolute image and kernel\n",
    "img_conv = np.multiply(img_fft, gauss_kernel_fft)\n",
    "\n",
    "# plt.imshow(np.fft.fftshift(np.real(np.fft.ifft2(img_conv))), \"gray\")\n",
    "# plt.title(\"Convolution of Image and Kernel\")\n",
    "# plt.show()"
   ]
  },
  {
   "cell_type": "code",
   "execution_count": null,
   "metadata": {},
   "outputs": [],
   "source": [
    "img_r = np.divide(img_conv, gauss_kernel_fft)\n",
    "\n",
    "# plt.imshow(np.real(np.fft.ifft2(img_r)), \"gray\")\n",
    "# plt.title(\"Reconstruction of Image\")\n",
    "# plt.show()"
   ]
  },
  {
   "cell_type": "code",
   "execution_count": null,
   "metadata": {},
   "outputs": [],
   "source": [
    "b_img = np.fft.fftshift(np.real(np.fft.ifft2(img_conv)))\n",
    "r_img = np.real(np.fft.ifft2(img_r))\n",
    "\n",
    "fig = plt.figure(figsize=(15,15))\n",
    "ax = fig.add_subplot(131)\n",
    "ax.imshow(img, \"gray\");ax.set_title(\"Original Image\")\n",
    "ax = fig.add_subplot(132)\n",
    "ax.imshow(b_img, \"gray\");ax.set_title(\"Motion Blurred Image\")\n",
    "ax = fig.add_subplot(133)\n",
    "ax.imshow(r_img, \"gray\");ax.set_title(\"Reconstructed Image\")\n",
    "plt.show()"
   ]
  }
 ],
 "metadata": {
  "kernelspec": {
   "display_name": "Python 3.7.6 ('mllab')",
   "language": "python",
   "name": "python3"
  },
  "language_info": {
   "codemirror_mode": {
    "name": "ipython",
    "version": 3
   },
   "file_extension": ".py",
   "mimetype": "text/x-python",
   "name": "python",
   "nbconvert_exporter": "python",
   "pygments_lexer": "ipython3",
   "version": "3.7.6"
  },
  "orig_nbformat": 4,
  "vscode": {
   "interpreter": {
    "hash": "43c05a3e19b01079ffeaf8db5e23f85b9dc48275fbce953df18c5336d9b3b7c5"
   }
  }
 },
 "nbformat": 4,
 "nbformat_minor": 2
}
